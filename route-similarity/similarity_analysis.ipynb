{
 "cells": [
  {
   "cell_type": "code",
   "execution_count": null,
   "metadata": {},
   "outputs": [],
   "source": [
    "import os\n",
    "import pickle\n",
    "\n",
    "import numpy as np\n",
    "import pandas as pd\n",
    "import tqdm\n",
    "\n",
    "from rxnutils.routes.readers import SynthesisRoute\n",
    "from rxnutils.routes.comparison import simple_route_similarity\n",
    "\n",
    "import seaborn as sns\n",
    "import matplotlib.pylab as plt"
   ]
  },
  {
   "cell_type": "code",
   "execution_count": null,
   "metadata": {},
   "outputs": [],
   "source": [
    "root = f\"multistep/last_epoch/output\"\n",
    "files = {\n",
    "    k: [\n",
    "        f\"{root}/{k}/{f}\"\n",
    "        for f in os.listdir(f\"{root}/{k}\")\n",
    "        if os.path.isfile(os.path.join(f\"{root}/{k}\", f)) and f.endswith(\".json.gz\")\n",
    "    ]\n",
    "    for k in os.listdir(root) if not k.endswith(\"pickle\")\n",
    "}\n",
    "dfs: dict[str, pd.DataFrame] = {k: pd.concat(pd.read_json(f, orient=\"table\") for f in fs) for k, fs in files.items()}"
   ]
  },
  {
   "cell_type": "code",
   "execution_count": null,
   "metadata": {},
   "outputs": [],
   "source": [
    "for k, v in dfs.items():\n",
    "    with open(f\"{root}/{k}_trees.pickle\", \"rb\") as fileobj:\n",
    "        trees = pickle.load(fileobj)\n",
    "    dfs[k] = v.assign(route=[SynthesisRoute(tree) for tree in trees])\n",
    "    assert dfs[k].target.tolist() == [r.reaction_tree[\"smiles\"] for r in dfs[k].route]"
   ]
  },
  {
   "cell_type": "code",
   "execution_count": null,
   "metadata": {},
   "outputs": [],
   "source": [
    "targets = {tgt for df in dfs.values() for tgt in df.target}\n",
    "for df in dfs.values():\n",
    "    targets = targets.intersection(df.target)\n",
    "len(targets)"
   ]
  },
  {
   "cell_type": "code",
   "execution_count": null,
   "metadata": {},
   "outputs": [],
   "source": [
    "for key in dfs.keys():\n",
    "    sel = dfs[key].target.isin(targets)\n",
    "    dfs[key] = dfs[key][sel]"
   ]
  },
  {
   "cell_type": "code",
   "execution_count": null,
   "metadata": {},
   "outputs": [],
   "source": [
    "target2route = {key: dict(zip(dfs[key].target, dfs[key].route)) for key in dfs.keys()}\n",
    "target2solved = {key: dict(zip(dfs[key].target, dfs[key].is_solved)) for key in dfs.keys()}"
   ]
  },
  {
   "cell_type": "code",
   "execution_count": null,
   "metadata": {},
   "outputs": [],
   "source": [
    "mats = []\n",
    "for target in tqdm.tqdm(targets):\n",
    "    routes = [target2route[key][target] for key in dfs.keys()]\n",
    "    mask = [not target2solved[key][target] for key in dfs.keys()]\n",
    "    dm = simple_route_similarity(routes)\n",
    "    dm[mask, :] = np.nan\n",
    "    dm[:, mask] = np.nan\n",
    "    mats.append(dm)"
   ]
  },
  {
   "cell_type": "code",
   "execution_count": null,
   "metadata": {},
   "outputs": [],
   "source": [
    "name_map = {\n",
    "    \"multistep_template\": \"Template-based\",\n",
    "    \"multistep_multi\": \"Multi-expansion\",\n",
    "\n",
    "    'multistep_scratch_original_50k': \"RandomInit-Original\",\n",
    "    'multistep_scratch_50k': \"RandomInit-baseline\",\n",
    "    'multistep_scratch_acc_50k': \"RandomInit-OptAcc\",\n",
    "    'multistep_scratch_rcs_50k': \"RandomInit-OptRCS\",\n",
    "\n",
    "    \"multistep_chemformer_original_50k\": \"FT-Zinc-Original\",\n",
    "    \"multistep_chemformer_50k\": \"FT-Zinc-baseline\",\n",
    "    'multistep_pretrain_acc_50k': \"KD-Zinc-OptAcc\",\n",
    "    'multistep_pretrain_rcs_50k': \"KD-Zinc-OptRCS\",\n",
    "    'multistep_chemformer_acc_50k': \"KD-Chemformer-OptAcc\",\n",
    "    'multistep_chemformer_rcs_50k': \"KD-Chemformer-OptRCS\",\n",
    "\n",
    "    'multistep_scratch': \"RandomInit-baseline\",\n",
    "    'multistep_scratch_acc': \"RandomInit-OptAcc\",\n",
    "    'multistep_scratch_rcs': \"RandomInit-OptRCS\",\n",
    "    'multistep_chemformer': \"FT-Zinc-baseline\",\n",
    "}\n",
    "mapping = lambda y: map(lambda x: {v: k for k, v in enumerate(name_map)}[x], y)"
   ]
  },
  {
   "cell_type": "code",
   "execution_count": null,
   "metadata": {},
   "outputs": [],
   "source": [
    "mat_mean = np.nanmean(mats, axis=0)\n",
    "df = pd.DataFrame(mat_mean, columns=dfs.keys(), index=dfs.keys())\n",
    "df = df.sort_index(key=lambda x: list(mapping(df.index))).sort_index(key=lambda x: list(mapping(df.index)), axis=1).rename(index=name_map, columns=name_map)\n",
    "sns.heatmap(df)"
   ]
  },
  {
   "cell_type": "code",
   "execution_count": null,
   "metadata": {},
   "outputs": [],
   "source": [
    "def insert_row(df, position, row_name):\n",
    "    new_row = pd.DataFrame([[np.nan] * df.shape[1]], columns=df.columns, index=[row_name])\n",
    "    return pd.concat([df.iloc[:position], new_row, df.iloc[position:]])\n",
    "\n",
    "def insert_col(df, position, col_name):\n",
    "    new_col = pd.DataFrame({col_name: [np.nan] * df.shape[0]}, index=df.index)\n",
    "    return pd.concat([df.iloc[:, :position], new_col, df.iloc[:, position:]], axis=1)\n",
    "\n",
    "def insert_both(df, position, name):\n",
    "    df = insert_row(df, position, name)\n",
    "    df = insert_col(df, position, name)\n",
    "    return df\n",
    "\n",
    "df_temp = df.copy()\n",
    "\n",
    "for i in range(len(df)//2):\n",
    "    pos = i*2 + i\n",
    "    df_temp = insert_both(df_temp, pos, \"\")\n",
    "\n",
    "sns.set_theme(\n",
    "    style=\"whitegrid\",\n",
    "    font=\"serif\",\n",
    "    # font_scale=1.5,\n",
    "    context=\"paper\"\n",
    ")\n",
    "sns.set_palette(\"colorblind\")\n",
    "palette = sns.color_palette(\"colorblind\")\n",
    "sns.despine()\n",
    "\n",
    "\n",
    "mask = np.triu(np.ones_like(df_temp, dtype=bool))\n",
    "fig = plt.figure(dpi=360)\n",
    "ax = fig.gca()\n",
    "ax = sns.heatmap(df_temp, mask=mask, linewidths=0.5)\n",
    "ax.grid(False)"
   ]
  }
 ],
 "metadata": {
  "kernelspec": {
   "display_name": "routes-env",
   "language": "python",
   "name": "python3"
  },
  "language_info": {
   "name": "python",
   "version": "3.10.15"
  }
 },
 "nbformat": 4,
 "nbformat_minor": 2
}
